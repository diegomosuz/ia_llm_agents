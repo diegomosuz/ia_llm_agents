{
 "cells": [
  {
   "cell_type": "markdown",
   "id": "b8555bcc-7f2c-43ad-a48f-cb9fb9472a7e",
   "metadata": {},
   "source": [
    "# Problema\n",
    "El objetivo es desarrollar una aplicación que genere automáticamente un folleto resumido en formato Markdown a partir del contenido de la página web de una empresa. Para lograr esto, se empleará un modelo de lenguaje de gran escala (LLM) que, mediante técnicas de web scraping, extraerá el texto relevante y los enlaces de la página principal. Posteriormente, el LLM analizará estos enlaces para identificar aquellos que aporten información valiosa sobre la empresa. El contenido de los enlaces seleccionados se recopilará y consolidará con el de la página principal. Finalmente, el LLM generará un folleto en formato Markdown que resuma la información más destacada de la empresa, proporcionando una visión clara y concisa de sus servicios, productos y valores.\n",
    "\n",
    "![SNOWFALL](app_folleto_diagram.png) "
   ]
  },
  {
   "cell_type": "code",
   "execution_count": 79,
   "id": "b538afbf-d2cc-422e-9a92-0e5254110613",
   "metadata": {},
   "outputs": [],
   "source": [
    "import openai\n",
    "import gradio as gr\n",
    "import requests\n",
    "from bs4 import BeautifulSoup\n",
    "import os\n",
    "from dotenv import load_dotenv\n",
    "import json"
   ]
  },
  {
   "cell_type": "code",
   "execution_count": 80,
   "id": "9a214ecb-09f4-4e71-b51d-c12d0b81a8ef",
   "metadata": {},
   "outputs": [
    {
     "name": "stdout",
     "output_type": "stream",
     "text": [
      "OpenAI API Key existe y empieza por sk-proj-\n"
     ]
    }
   ],
   "source": [
    "load_dotenv()\n",
    "openai_api_key = os.getenv('OPENAI_API_KEY')\n",
    "if openai_api_key:\n",
    "    print(f\"OpenAI API Key existe y empieza por {openai_api_key[:8]}\")"
   ]
  },
  {
   "cell_type": "code",
   "execution_count": 81,
   "id": "cf7710c0-2523-4827-8c59-7b95e4418c34",
   "metadata": {},
   "outputs": [],
   "source": [
    "MODEL = 'gpt-4o-mini'"
   ]
  },
  {
   "cell_type": "code",
   "execution_count": 82,
   "id": "8146c4b5-8524-417a-a9e9-9bee0086e0c6",
   "metadata": {},
   "outputs": [],
   "source": [
    "def agente_scraping(url):\n",
    "    \"\"\"\n",
    "    Extrae el contenido textual y los enlaces de una página web dada.\n",
    "    \"\"\"\n",
    "    try:\n",
    "        response = requests.get(url)\n",
    "        response.raise_for_status()\n",
    "        soup = BeautifulSoup(response.content, 'html.parser')\n",
    "\n",
    "        # Elimina elementos no deseados\n",
    "        for tag in soup(['script', 'style', 'img', 'input']):\n",
    "            tag.decompose()\n",
    "\n",
    "        # Extrae el texto principal\n",
    "        texto_principal = soup.get_text(separator='\\n', strip=True)\n",
    "\n",
    "        # Extrae todos los enlaces de la página\n",
    "        enlaces = [a['href'] for a in soup.find_all('a', href=True)]\n",
    "\n",
    "        return texto_principal, enlaces\n",
    "    except Exception as e:\n",
    "        return str(e), []"
   ]
  },
  {
   "cell_type": "code",
   "execution_count": 83,
   "id": "48c31ed4-7ad6-4923-b26f-f0f446a00880",
   "metadata": {},
   "outputs": [],
   "source": [
    "def agente_analisis_enlaces(texto_principal, enlaces):\n",
    "    link_system_prompt = \"Eres un asistente que ayuda a identificar enlaces relevantes en el contenido de una página web.\"\n",
    "    user_prompt = (\n",
    "        f\"Contenido de la página:\\n\\n{texto_principal}\\n\\n\"\n",
    "        f\"Enlaces extraídos:\\n{enlaces}\\n\\n\"\n",
    "        \"Identifica cuáles de estos enlaces son relevantes para incluir en un folleto resumido de la empresa.\"\n",
    "    )\n",
    "\n",
    "    link_system_prompt = \"Se te proporciona una lista de enlaces que se encuentran en una página web. \\\n",
    "    Puedes decidir cuáles de los enlaces serían los más relevantes para incluir en un folleto sobre la empresa, \\\n",
    "    como enlaces a una página Acerca de, una página de la empresa, las carreras/empleos disponibles o páginas de Cursos/Packs.\\n\"\n",
    "    link_system_prompt += \"Debes responder en JSON como en este ejemplo:\"\n",
    "    link_system_prompt += \"\"\"\n",
    "    {\n",
    "        \"links\": [\n",
    "            {\"type\": \"Pagina Sobre nosotros\", \"url\": \"https://url.completa/aqui/va/sobre/nosotros\"},\n",
    "            {\"type\": \"Pagina de Cursos\": \"url\": \"https://otra.url.completa/courses\"}\n",
    "        ]\n",
    "    }\n",
    "    \"\"\"\n",
    "\n",
    "    response = openai.chat.completions.create(\n",
    "        model=MODEL,\n",
    "        messages=[\n",
    "            {\"role\": \"system\", \"content\": link_system_prompt},\n",
    "            {\"role\": \"user\", \"content\": user_prompt}\n",
    "        ], \n",
    "        response_format={\"type\": \"json_object\"}\n",
    "    )\n",
    "    result = response.choices[0].message.content\n",
    "    return json.loads(result)"
   ]
  },
  {
   "cell_type": "code",
   "execution_count": 84,
   "id": "82e33a57-9d8f-435c-a4b1-447fc04fd5a0",
   "metadata": {},
   "outputs": [],
   "source": [
    "def agente_generacion_folleto(contenidos):\n",
    "    brochure_system_prompt = (\n",
    "        \"Eres un asistente experto en marketing que crea folletos atractivos en formato Markdown.\"\n",
    "    )\n",
    "    user_prompt = (\n",
    "        f\"Contenido de la empresa y sus secciones relevantes:\\n\\n{contenidos}\\n\\n\"\n",
    "        \"Genera un folleto resumido en formato Markdown que destaque la información más importante de la empresa.\"\n",
    "    )\n",
    "\n",
    "    response = openai.chat.completions.create(\n",
    "        model=MODEL,\n",
    "        messages=[\n",
    "            {\"role\": \"system\", \"content\": brochure_system_prompt},\n",
    "            {\"role\": \"user\", \"content\": user_prompt}\n",
    "        ]\n",
    "    )\n",
    "    result = response.choices[0].message.content\n",
    "    return result"
   ]
  },
  {
   "cell_type": "code",
   "execution_count": 85,
   "id": "821da81d-3826-400a-b75a-ed648a7661c2",
   "metadata": {},
   "outputs": [],
   "source": [
    "def generar_folleto(url):\n",
    "    \"\"\"\n",
    "    Función principal que coordina los agentes y genera el folleto final.\n",
    "    \"\"\"\n",
    "    # Agente de Scraping: obtiene el contenido de la página y los enlaces\n",
    "    texto_principal, enlaces = agente_scraping(url)\n",
    "    if not texto_principal:\n",
    "        return \"No se pudo extraer contenido de la página principal.\"\n",
    "\n",
    "    # Agente de Análisis de Enlaces: identifica los enlaces relevantes\n",
    "    enlaces_relevantes = agente_analisis_enlaces(texto_principal, enlaces)\n",
    "    if not enlaces_relevantes:\n",
    "        return \"No se identificaron enlaces relevantes.\"\n",
    "\n",
    "    # Obtener contenido de los enlaces relevantes\n",
    "    contenidos = texto_principal\n",
    "    for enlace in enlaces_relevantes:\n",
    "        if not enlace.startswith('http'):\n",
    "            enlace = requests.compat.urljoin(url, enlace)  # Normaliza la URL relativa a absoluta\n",
    "        contenido_enlace, _ = agente_scraping(enlace)\n",
    "        contenidos += f\"\\n\\n{contenido_enlace}\"\n",
    "\n",
    "    # Agente de Generación de Folleto: genera el folleto en Markdown\n",
    "    folleto = agente_generacion_folleto(contenidos)\n",
    "    return folleto"
   ]
  },
  {
   "cell_type": "code",
   "execution_count": null,
   "id": "c0d86db5-b127-4d97-a384-4803ee7f16c6",
   "metadata": {},
   "outputs": [],
   "source": [
    "interface = gr.Interface(\n",
    "    fn=generar_folleto,\n",
    "    inputs=gr.Textbox(label=\"URL de la página web de la empresa\"),\n",
    "    outputs=gr.Markdown(label=\"Folleto generado\"),\n",
    "    title=\"Generador de Folletos Empresariales\",\n",
    "    description=\"Ingresa la URL de la página web de una empresa para generar un folleto resumido en formato Markdown utilizando GPT.\",\n",
    "    flagging_mode=\"never\"\n",
    ")\n",
    "\n",
    "interface.launch()"
   ]
  }
 ],
 "metadata": {
  "kernelspec": {
   "display_name": "Python 3 (ipykernel)",
   "language": "python",
   "name": "python3"
  },
  "language_info": {
   "codemirror_mode": {
    "name": "ipython",
    "version": 3
   },
   "file_extension": ".py",
   "mimetype": "text/x-python",
   "name": "python",
   "nbconvert_exporter": "python",
   "pygments_lexer": "ipython3",
   "version": "3.11.11"
  }
 },
 "nbformat": 4,
 "nbformat_minor": 5
}
